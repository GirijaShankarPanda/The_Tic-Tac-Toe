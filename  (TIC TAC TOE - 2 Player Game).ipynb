{
 "cells": [
  {
   "cell_type": "markdown",
   "id": "126f3f31",
   "metadata": {},
   "source": [
    "***PROJECT (TIC-TAC-TOE GAME)***"
   ]
  },
  {
   "cell_type": "markdown",
   "id": "34e82893",
   "metadata": {},
   "source": [
    "**Step-1 : A function that can print out a board, where each index 1-9 corresponds with a number on a number pad, so to get a 3 by 3 board representation.**"
   ]
  },
  {
   "cell_type": "code",
   "execution_count": 1,
   "id": "8931534e",
   "metadata": {},
   "outputs": [],
   "source": [
    "from IPython.display import clear_output\n",
    "\n",
    "def display_board(board):\n",
    "    \n",
    "    clear_output()  # Works for Jupyter only\n",
    "    # Use \"print('\\n'*100)\" for other IDE's\n",
    "    \n",
    "    print('  |   |  ')\n",
    "    print(board[1]+' | '+board[2]+' | '+board[3])\n",
    "    print('  |   |  ')\n",
    "    print('----------')\n",
    "    print('  |   |  ')\n",
    "    print(board[4]+' | '+board[5]+' | '+board[6])\n",
    "    print('  |   |  ')\n",
    "    print('----------')\n",
    "    print('  |   |  ')\n",
    "    print(board[7]+' | '+board[8]+' | '+board[9])\n",
    "    print('  |   |  ')\n"
   ]
  },
  {
   "cell_type": "markdown",
   "id": "045cddfa",
   "metadata": {},
   "source": [
    "**TEST Step-1 :**"
   ]
  },
  {
   "cell_type": "code",
   "execution_count": 2,
   "id": "4c1be7d0",
   "metadata": {},
   "outputs": [
    {
     "name": "stdout",
     "output_type": "stream",
     "text": [
      "  |   |  \n",
      "X | O | X\n",
      "  |   |  \n",
      "----------\n",
      "  |   |  \n",
      "O | X | O\n",
      "  |   |  \n",
      "----------\n",
      "  |   |  \n",
      "X | O | X\n",
      "  |   |  \n"
     ]
    }
   ],
   "source": [
    "test_board = ['#','X','O','X','O','X','O','X','O','X']\n",
    "display_board(test_board)"
   ]
  },
  {
   "cell_type": "markdown",
   "id": "3a15f263",
   "metadata": {},
   "source": [
    "**Step-2 : A function that can take in a player input and assign their marker as 'X' or 'O'.**"
   ]
  },
  {
   "cell_type": "code",
   "execution_count": 3,
   "id": "95b8d29f",
   "metadata": {},
   "outputs": [],
   "source": [
    "def player_input():\n",
    "    \n",
    "    '''\n",
    "    OUTPUT = (Player 1 marker, Player 2 marker)\n",
    "    '''\n",
    "    \n",
    "    marker = ''\n",
    "    \n",
    "    while not (marker == 'X' or marker == 'O'):\n",
    "        marker = input('Player1: What do you want to be? (X or O): ').upper()\n",
    "        \n",
    "        if marker == 'X':\n",
    "            return ('X','O')\n",
    "        else:\n",
    "            return ('O','X')"
   ]
  },
  {
   "cell_type": "markdown",
   "id": "acc8cb5f",
   "metadata": {},
   "source": [
    "**TEST Step-2 :**"
   ]
  },
  {
   "cell_type": "code",
   "execution_count": 4,
   "id": "6cfd8c79",
   "metadata": {},
   "outputs": [
    {
     "name": "stdout",
     "output_type": "stream",
     "text": [
      "Player1: What do you want to be? (X or O): O\n"
     ]
    }
   ],
   "source": [
    "Player1_marker, Player2_marker = player_input()"
   ]
  },
  {
   "cell_type": "code",
   "execution_count": 5,
   "id": "de6a2a8c",
   "metadata": {},
   "outputs": [
    {
     "data": {
      "text/plain": [
       "'X'"
      ]
     },
     "execution_count": 5,
     "metadata": {},
     "output_type": "execute_result"
    }
   ],
   "source": [
    "Player2_marker"
   ]
  },
  {
   "cell_type": "markdown",
   "id": "2316fdcd",
   "metadata": {},
   "source": [
    "**Step-3 : A function that takes in the board list object, a marker ('X' or 'O'), and a desired position (number 1-9) and assigning it to the board.**"
   ]
  },
  {
   "cell_type": "code",
   "execution_count": 6,
   "id": "16cef154",
   "metadata": {},
   "outputs": [],
   "source": [
    "def place_marker(board, marker, position):\n",
    "    board[position] = marker"
   ]
  },
  {
   "cell_type": "markdown",
   "id": "77a3e761",
   "metadata": {},
   "source": [
    "**TEST Step-3 :**"
   ]
  },
  {
   "cell_type": "code",
   "execution_count": 7,
   "id": "9cd2f4e0",
   "metadata": {},
   "outputs": [
    {
     "data": {
      "text/plain": [
       "['#', 'X', 'O', 'X', 'O', 'X', 'O', 'X', 'O', 'X']"
      ]
     },
     "execution_count": 7,
     "metadata": {},
     "output_type": "execute_result"
    }
   ],
   "source": [
    "test_board"
   ]
  },
  {
   "cell_type": "code",
   "execution_count": 8,
   "id": "20fc13d7",
   "metadata": {},
   "outputs": [
    {
     "name": "stdout",
     "output_type": "stream",
     "text": [
      "  |   |  \n",
      "X | O | X\n",
      "  |   |  \n",
      "----------\n",
      "  |   |  \n",
      "O | X | O\n",
      "  |   |  \n",
      "----------\n",
      "  |   |  \n",
      "X | @ | X\n",
      "  |   |  \n"
     ]
    }
   ],
   "source": [
    "place_marker(test_board, '@', 8)\n",
    "display_board(test_board)"
   ]
  },
  {
   "cell_type": "markdown",
   "id": "32eeecd4",
   "metadata": {},
   "source": [
    "**Step-4 : A function that takes in a board and checks to see if someone has won.**"
   ]
  },
  {
   "cell_type": "code",
   "execution_count": 9,
   "id": "c4d224ea",
   "metadata": {},
   "outputs": [],
   "source": [
    "def win_check(board, mark):\n",
    "    \n",
    "    # WIN THE GAME?\n",
    "    # ALL ROWS, and check to see if they all share the same marker?\n",
    "    return ((board[1] == mark and board[2] == mark and board[3] == mark) or\n",
    "    (board[4] == mark and board[5] == mark and board[6] == mark) or\n",
    "    (board[7] == mark and board[8] == mark and board[9] == mark) or\n",
    "    \n",
    "    # ALL COLUMNS, and check to see if marker matches?\n",
    "    (board[1] == mark and board[4] == mark and board[7] == mark) or\n",
    "    (board[2] == mark and board[5] == mark and board[8] == mark) or\n",
    "    (board[3] == mark and board[6] == mark and board[9] == mark) or\n",
    "    \n",
    "    # 2 DIAGONALS, and check to see match\n",
    "    (board[1] == mark and board[5] == mark and board[9] == mark) or\n",
    "    (board[3] == mark and board[5] == mark and board[7] == mark))"
   ]
  },
  {
   "cell_type": "markdown",
   "id": "edde6486",
   "metadata": {},
   "source": [
    "**TEST Step-4 :**"
   ]
  },
  {
   "cell_type": "code",
   "execution_count": 10,
   "id": "054dc1c0",
   "metadata": {},
   "outputs": [
    {
     "name": "stdout",
     "output_type": "stream",
     "text": [
      "  |   |  \n",
      "X | O | X\n",
      "  |   |  \n",
      "----------\n",
      "  |   |  \n",
      "O | X | O\n",
      "  |   |  \n",
      "----------\n",
      "  |   |  \n",
      "X | @ | X\n",
      "  |   |  \n"
     ]
    },
    {
     "data": {
      "text/plain": [
       "True"
      ]
     },
     "execution_count": 10,
     "metadata": {},
     "output_type": "execute_result"
    }
   ],
   "source": [
    "display_board(test_board)\n",
    "win_check(test_board, 'X')"
   ]
  },
  {
   "cell_type": "markdown",
   "id": "37a7898a",
   "metadata": {},
   "source": [
    "**Step 5 : A function that uses the random module to randomly decide which player goes first using** ***random.randint().***"
   ]
  },
  {
   "cell_type": "code",
   "execution_count": 11,
   "id": "bea41666",
   "metadata": {},
   "outputs": [],
   "source": [
    "import random\n",
    "\n",
    "def choose_first(): \n",
    "    \n",
    "    if random.randint(0, 1) == 0:\n",
    "        return 'Player 2'\n",
    "    else:\n",
    "        return 'Player 1'"
   ]
  },
  {
   "cell_type": "markdown",
   "id": "1fdc476a",
   "metadata": {},
   "source": [
    "**Step-6 : A function that returns a boolean indicating whether a space on the board is freely available.**"
   ]
  },
  {
   "cell_type": "code",
   "execution_count": 12,
   "id": "d65e15fd",
   "metadata": {},
   "outputs": [],
   "source": [
    "def space_check(board, position):\n",
    "    \n",
    "    return board[position] == ' '"
   ]
  },
  {
   "cell_type": "markdown",
   "id": "472077d6",
   "metadata": {},
   "source": [
    "**Step-7 : A function that checks if the board is full and returns a boolean value. True if full, False otherwise.**"
   ]
  },
  {
   "cell_type": "code",
   "execution_count": 13,
   "id": "d093923c",
   "metadata": {},
   "outputs": [],
   "source": [
    "def full_board_check(board):\n",
    "    \n",
    "    for i in range(1,10):\n",
    "        if space_check(board, i):\n",
    "            return False\n",
    "    # BOARD IS FULL\n",
    "    return True"
   ]
  },
  {
   "cell_type": "markdown",
   "id": "4b85d785",
   "metadata": {},
   "source": [
    "**Step-8 : A function that asks for a player's next position (as a number 1-9) and then uses the function from Step-6 to check if its a free position. If it is, then returning the position for later use.**"
   ]
  },
  {
   "cell_type": "code",
   "execution_count": 14,
   "id": "35cc8ebf",
   "metadata": {},
   "outputs": [],
   "source": [
    "def player_choice(board):\n",
    "    \n",
    "    position = 0\n",
    "    \n",
    "    while position not in [1,2,3,4,5,6,7,8,9] or not space_check(board, position):\n",
    "        position = int(input('Choose a position (1-9): '))\n",
    "        \n",
    "    return position"
   ]
  },
  {
   "cell_type": "markdown",
   "id": "3333733f",
   "metadata": {},
   "source": [
    "**Step-9 : A function that asks the player if they want to play again and returns a boolean True if they do want to play again.**"
   ]
  },
  {
   "cell_type": "code",
   "execution_count": 15,
   "id": "7bf5ea2c",
   "metadata": {},
   "outputs": [],
   "source": [
    "def replay():\n",
    "    \n",
    "     return input('Do you want to play again? Enter Yes or No: ').lower().startswith('y')"
   ]
  },
  {
   "cell_type": "markdown",
   "id": "591663a7",
   "metadata": {},
   "source": [
    "***FINAL STEP:***\n",
    "\n",
    "**Step-10 : Running the Game!**"
   ]
  },
  {
   "cell_type": "code",
   "execution_count": null,
   "id": "0e8a63d1",
   "metadata": {},
   "outputs": [
    {
     "name": "stdout",
     "output_type": "stream",
     "text": [
      "  |   |  \n",
      "X | O | X\n",
      "  |   |  \n",
      "----------\n",
      "  |   |  \n",
      "  | O | X\n",
      "  |   |  \n",
      "----------\n",
      "  |   |  \n",
      "O |   | X\n",
      "  |   |  \n",
      "CONGRATULATIONS! PLAYER 1 HAS WON THE GAME.\n"
     ]
    }
   ],
   "source": [
    "print('Welcome to The Tic-Tac-Toe game!')\n",
    "\n",
    "while True:\n",
    "    # Reset the board\n",
    "    theBoard = [' '] * 10\n",
    "    player1_marker, player2_marker = player_input()\n",
    "    \n",
    "    turn = choose_first()\n",
    "    print(turn + ' will go first.')\n",
    "    \n",
    "    play_game = input('Are you ready to play? (Yes or No):')\n",
    "    \n",
    "    if play_game.lower()[0] == 'y':\n",
    "        game_on = True\n",
    "    else:\n",
    "        game_on = False\n",
    "\n",
    "    while game_on:\n",
    "        if turn == 'Player 1':\n",
    "            # PLAYER 1 TURN\n",
    "            \n",
    "            display_board(theBoard)\n",
    "            position = player_choice(theBoard)\n",
    "            place_marker(theBoard, player1_marker, position)\n",
    "\n",
    "            if win_check(theBoard, player1_marker):\n",
    "                display_board(theBoard)\n",
    "                print('CONGRATULATIONS! PLAYER 1 HAS WON THE GAME.')\n",
    "                game_on = False\n",
    "            else:\n",
    "                if full_board_check(theBoard):\n",
    "                    display_board(theBoard)\n",
    "                    print('THE GAME IS A TIE!')\n",
    "                    break\n",
    "                else:\n",
    "                    turn = 'Player 2'\n",
    "        else:\n",
    "            # PLAYER 2 TURN\n",
    "            \n",
    "            display_board(theBoard)\n",
    "            position = player_choice(theBoard)\n",
    "            place_marker(theBoard, player2_marker, position)\n",
    "\n",
    "            if win_check(theBoard, player2_marker):\n",
    "                display_board(theBoard)\n",
    "                print('CONGRATULATIONS! PLAYER 2 HAS WON THE GAME.')\n",
    "                game_on = False\n",
    "            else:\n",
    "                if full_board_check(theBoard):\n",
    "                    display_board(theBoard)\n",
    "                    print('THE GAME IS A TIE!')\n",
    "                    break\n",
    "                else:\n",
    "                    turn = 'Player 1'\n",
    "\n",
    "    if not replay():\n",
    "        break"
   ]
  }
 ],
 "metadata": {
  "kernelspec": {
   "display_name": "Python 3 (ipykernel)",
   "language": "python",
   "name": "python3"
  },
  "language_info": {
   "codemirror_mode": {
    "name": "ipython",
    "version": 3
   },
   "file_extension": ".py",
   "mimetype": "text/x-python",
   "name": "python",
   "nbconvert_exporter": "python",
   "pygments_lexer": "ipython3",
   "version": "3.10.9"
  }
 },
 "nbformat": 4,
 "nbformat_minor": 5
}
